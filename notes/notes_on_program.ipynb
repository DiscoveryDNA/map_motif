{
 "cells": [
  {
   "cell_type": "code",
   "execution_count": 345,
   "metadata": {
    "collapsed": true
   },
   "outputs": [],
   "source": [
    "#!/usr/bin/env python\n",
    "#map_motif.py\n",
    "#Ciera Martinez\n",
    "\n",
    "import re\n",
    "import pandas as pd\n",
    "import numpy as np\n",
    "import os, sys\n",
    "from Bio import motifs\n",
    "from Bio import SeqIO \n",
    "from Bio.Seq import Seq\n",
    "from Bio.SeqRecord import SeqRecord\n",
    "from Bio.Alphabet import IUPAC, generic_dna, generic_protein\n",
    "from collections import defaultdict"
   ]
  },
  {
   "cell_type": "code",
   "execution_count": 346,
   "metadata": {},
   "outputs": [
    {
     "name": "stdout",
     "output_type": "stream",
     "text": [
      "[SeqRecord(seq=Seq('GTTGTTCTCGATTCGCTTTCTCCGTTTGTCTTTTCGTGTGATATGCTTGTAATA...AAT', SingleLetterAlphabet()), id='output_MEMB002A.fa', name='output_MEMB002A.fa', description='output_MEMB002A.fa', dbxrefs=[]), SeqRecord(seq=Seq('GTTGTTCTCGATTCGCTTTCTCCGTTTGTCTTTTCGTGTGATATGCTTGTAATA...AAT', SingleLetterAlphabet()), id='output_MEMB002C.fa', name='output_MEMB002C.fa', description='output_MEMB002C.fa', dbxrefs=[]), SeqRecord(seq=Seq('GTCGTTTTGGTCTCGCCTTCTCCGTTTGTCTTTTCGTGTGATATGCTGGTAATA...---', SingleLetterAlphabet()), id='output_MEMB002D.fa', name='output_MEMB002D.fa', description='output_MEMB002D.fa', dbxrefs=[]), SeqRecord(seq=Seq('GTCGTCCTTGTCTCGCTTTCTCCGTTTGTCTTTTCATGTGATATGCTGGTGATA...---', SingleLetterAlphabet()), id='output_MEMB002E.fa', name='output_MEMB002E.fa', description='output_MEMB002E.fa', dbxrefs=[]), SeqRecord(seq=Seq('GTCGCCCTTGATTCGCTTTCTCCGTTTGTCTTTTCGTGTGATATGCTTGTAATA...AAT', SingleLetterAlphabet()), id='output_MEMB002F.fa', name='output_MEMB002F.fa', description='output_MEMB002F.fa', dbxrefs=[]), SeqRecord(seq=Seq('GTCGTTCTGGTTTCGCTTTCTCCGTTCTCCTTCTCGTGTGATATGCTTGTAATA...A--', SingleLetterAlphabet()), id='output_MEMB003B.fa', name='output_MEMB003B.fa', description='output_MEMB003B.fa', dbxrefs=[]), SeqRecord(seq=Seq('GTTGTTCTCGATTCGCTTTCTCCGTTTGTCTTTTCGTGTGATATGCTTGTAATA...AAT', SingleLetterAlphabet()), id='output_MEMB003C.fa', name='output_MEMB003C.fa', description='output_MEMB003C.fa', dbxrefs=[]), SeqRecord(seq=Seq('GTCGTTCTTATTTCGCTCTCTCCGTTGGTCTTTTCGTGTGATATGCTTGTAATA...A--', SingleLetterAlphabet()), id='output_MEMB003D.fa', name='output_MEMB003D.fa', description='output_MEMB003D.fa', dbxrefs=[]), SeqRecord(seq=Seq('GTCGTTCTTGTCTCGCTTTCTCCGTTTGTCTTTTCGTGCGATATGCTTGTGATA...A--', SingleLetterAlphabet()), id='output_MEMB003F.fa', name='output_MEMB003F.fa', description='output_MEMB003F.fa', dbxrefs=[])]\n",
      "TF name\tNone\n",
      "Matrix ID\tNone\n",
      "Matrix:\n",
      "        0      1      2      3\n",
      "A:   0.19   0.37   0.08   0.37\n",
      "C:   0.17   0.08   0.04   0.71\n",
      "G:   0.88   0.04   0.04   0.04\n",
      "T:   0.92   0.02   0.04   0.02\n",
      "\n",
      "\n",
      "\n"
     ]
    }
   ],
   "source": [
    "## read in alignment and motif \n",
    "alignment = list(SeqIO.parse(\"exampleAlignment/ludwig_eve-striped-2_align.fasta\", \"fasta\"))\n",
    "motif = motifs.read(open(\"Dmel_pwms/bcd_FlyReg.fm\"), \"pfm\")\n",
    "\n",
    "# Used later when marking output file\n",
    "alignment_file_name =  os.path.basename(sys.argv[1])\n",
    "motif_file_name =  os.path.basename(sys.argv[2])\n",
    "\n",
    "## print(alignment_file_name)\n",
    "## print(motif_file_name)\n",
    "\n",
    "print(alignment)\n",
    "print(motif)"
   ]
  },
  {
   "cell_type": "markdown",
   "metadata": {},
   "source": [
    "This part is doing ...."
   ]
  },
  {
   "cell_type": "code",
   "execution_count": 347,
   "metadata": {},
   "outputs": [
    {
     "name": "stdout",
     "output_type": "stream",
     "text": [
      "[SeqRecord(seq=Seq('GTTGTTCTCGATTCGCTTTCTCCGTTTGTCTTTTCGTGTGATATGCTTGTAATA...AAT', SingleLetterAlphabet()), id='output_MEMB002A.fa', name='<unknown name>', description='<unknown description>', dbxrefs=[]), SeqRecord(seq=Seq('GTTGTTCTCGATTCGCTTTCTCCGTTTGTCTTTTCGTGTGATATGCTTGTAATA...AAT', SingleLetterAlphabet()), id='output_MEMB002C.fa', name='<unknown name>', description='<unknown description>', dbxrefs=[]), SeqRecord(seq=Seq('GTCGTTTTGGTCTCGCCTTCTCCGTTTGTCTTTTCGTGTGATATGCTGGTAATA...TGC', SingleLetterAlphabet()), id='output_MEMB002D.fa', name='<unknown name>', description='<unknown description>', dbxrefs=[]), SeqRecord(seq=Seq('GTCGTCCTTGTCTCGCTTTCTCCGTTTGTCTTTTCATGTGATATGCTGGTGATA...TGC', SingleLetterAlphabet()), id='output_MEMB002E.fa', name='<unknown name>', description='<unknown description>', dbxrefs=[]), SeqRecord(seq=Seq('GTCGCCCTTGATTCGCTTTCTCCGTTTGTCTTTTCGTGTGATATGCTTGTAATA...AAT', SingleLetterAlphabet()), id='output_MEMB002F.fa', name='<unknown name>', description='<unknown description>', dbxrefs=[]), SeqRecord(seq=Seq('GTCGTTCTGGTTTCGCTTTCTCCGTTCTCCTTCTCGTGTGATATGCTTGTAATA...GCA', SingleLetterAlphabet()), id='output_MEMB003B.fa', name='<unknown name>', description='<unknown description>', dbxrefs=[]), SeqRecord(seq=Seq('GTTGTTCTCGATTCGCTTTCTCCGTTTGTCTTTTCGTGTGATATGCTTGTAATA...AAT', SingleLetterAlphabet()), id='output_MEMB003C.fa', name='<unknown name>', description='<unknown description>', dbxrefs=[]), SeqRecord(seq=Seq('GTCGTTCTTATTTCGCTCTCTCCGTTGGTCTTTTCGTGTGATATGCTTGTAATA...GCA', SingleLetterAlphabet()), id='output_MEMB003D.fa', name='<unknown name>', description='<unknown description>', dbxrefs=[]), SeqRecord(seq=Seq('GTCGTTCTTGTCTCGCTTTCTCCGTTTGTCTTTTCGTGCGATATGCTTGTGATA...GCA', SingleLetterAlphabet()), id='output_MEMB003F.fa', name='<unknown name>', description='<unknown description>', dbxrefs=[])]\n"
     ]
    }
   ],
   "source": [
    "raw_sequences = []\n",
    "for record in alignment:\n",
    "    raw_sequences.append(SeqRecord(record.seq.ungap(\"-\"), id = record.id))\n",
    "\n",
    "print (raw_sequences)"
   ]
  },
  {
   "cell_type": "code",
   "execution_count": null,
   "metadata": {
    "collapsed": true
   },
   "outputs": [],
   "source": []
  },
  {
   "cell_type": "code",
   "execution_count": null,
   "metadata": {
    "collapsed": true
   },
   "outputs": [],
   "source": []
  },
  {
   "cell_type": "code",
   "execution_count": 348,
   "metadata": {
    "collapsed": true
   },
   "outputs": [],
   "source": [
    "#!/usr/bin/env python\n",
    "#map_motif.py\n",
    "#Ciera Martinez\n",
    "\n",
    "import re\n",
    "import pandas as pd\n",
    "import numpy as np\n",
    "import os, sys\n",
    "from Bio import motifs\n",
    "from Bio import SeqIO \n",
    "from Bio.Seq import Seq\n",
    "from Bio.SeqRecord import SeqRecord\n",
    "from Bio.Alphabet import IUPAC, generic_dna, generic_protein\n",
    "from collections import defaultdict"
   ]
  },
  {
   "cell_type": "code",
   "execution_count": 349,
   "metadata": {},
   "outputs": [
    {
     "name": "stdout",
     "output_type": "stream",
     "text": [
      "ID: ludwig_eve-striped-2||memb003c|-\n",
      "Name: ludwig_eve-striped-2||memb003c|-\n",
      "Description: ludwig_eve-striped-2||memb003c|-\n",
      "Number of features: 0\n",
      "Seq('atataacccaataattttaactaactcgcaggagcaagaaggatgcggatgcgt...ctg', SingleLetterAlphabet())\n",
      "TF name\tNone\n",
      "Matrix ID\tNone\n",
      "Matrix:\n",
      "        0      1      2      3\n",
      "A:   0.19   0.37   0.08   0.37\n",
      "C:   0.17   0.08   0.04   0.71\n",
      "G:   0.88   0.04   0.04   0.04\n",
      "T:   0.92   0.02   0.04   0.02\n",
      "\n",
      "\n",
      "\n"
     ]
    }
   ],
   "source": [
    "## read in alignment and motif \n",
    "alignment = list(SeqIO.parse(\"exampleAlignment/ludwig_eve-striped-2.fasta\", \"fasta\"))\n",
    "motif = motifs.read(open(\"Dmel_pwms/bcd_FlyReg.fm\"), \"pfm\")\n",
    "\n",
    "# Used later when marking output file\n",
    "## alignment_file_name =  os.path.basename(sys.argv[1])\n",
    "## motif_file_name =  os.path.basename(sys.argv[2])\n",
    "\n",
    "## print(alignment_file_name)\n",
    "## print(motif_file_name)\n",
    "\n",
    "print(alignment[1])\n",
    "print(motif)"
   ]
  },
  {
   "cell_type": "code",
   "execution_count": 350,
   "metadata": {},
   "outputs": [
    {
     "name": "stdout",
     "output_type": "stream",
     "text": [
      "atataacccaataattttaactaactcgcaggagcggcaagaaggatgcgttgttacccggtaatgcataacaatggtcctcggaacggggaattggaaactaggacatggatcgaaggttcctcctcaccctgtctctgtgtgtgtttgtgccgtgttaatccgttttccatcagccagattattagtcaattttgggccagttttccagcatttcccttttggcatcgtttcactttcgagttagattttattgccgcatcttgaacaatcgaaacggagttttggtaacacgctgtgctctacttttactggctttcaattgagaacggaattaaacggaattccgggagttaagagaagacaggagacaggagacaggctagagaccctgactagaggccaaaaaccgggttgcaaagtcaggagattccgttcgaatgcaaggactctaacccagtttgtttgtttgtttgctgggattagccgagggcttgacttggtaccccgatcccgaagatctttgagccgcgatcccgtttcccgattttcattagaaagtcataaaaacacataataatgatgtcgaagggattagctggacatatccctatccctggcccaaaggcaggcagcctagctttgctgggtttattttttgcgctgacttaacccttaatcctcagcagcttaagcgtagcaggtagagttctggtatcccttttttgcgcaaactttgttgtgtttttgttgtgtagtcccccccctttgaaaggaccttctgccagggggtacagttgcctccaactgggcatgattatatcatcataataaatgttttgcccaacgaaaccgtagctaaaacttttcaaattaagtctccagcaactgaggccgttcctcctggaacccagccattatcctgcta\n"
     ]
    }
   ],
   "source": [
    "print(alignment[0].seq)"
   ]
  },
  {
   "cell_type": "code",
   "execution_count": 351,
   "metadata": {},
   "outputs": [
    {
     "name": "stdout",
     "output_type": "stream",
     "text": [
      "<generator object parse at 0x10d7ac308>\n"
     ]
    }
   ],
   "source": [
    "print(str(SeqIO.parse(\"exampleAlignment/ludwig_eve-striped-2.fasta\", \"fasta\")))"
   ]
  },
  {
   "cell_type": "code",
   "execution_count": 352,
   "metadata": {},
   "outputs": [
    {
     "name": "stdout",
     "output_type": "stream",
     "text": [
      "[SeqRecord(seq=Seq('atataacccaataattttaactaactcgcaggagcggcaagaaggatgcgttgt...cta', SingleLetterAlphabet()), id='ludwig_eve-striped-2||memb002e|-', name='<unknown name>', description='<unknown description>', dbxrefs=[]), SeqRecord(seq=Seq('atataacccaataattttaactaactcgcaggagcaagaaggatgcggatgcgt...ctg', SingleLetterAlphabet()), id='ludwig_eve-striped-2||memb003c|-', name='<unknown name>', description='<unknown description>', dbxrefs=[]), SeqRecord(seq=Seq('atataacccaataattttaactaactcgcaggagcggccagaaggatgcgttgt...cgc', SingleLetterAlphabet()), id='ludwig_eve-striped-2||memb003d|-', name='<unknown name>', description='<unknown description>', dbxrefs=[]), SeqRecord(seq=Seq('atataacccaataatttgaactaactcgcaggagcaagaaggatgcggatgcgt...ctg', SingleLetterAlphabet()), id='ludwig_eve-striped-2||memb002a|+', name='<unknown name>', description='<unknown description>', dbxrefs=[]), SeqRecord(seq=Seq('atataacccaataattttaactaactcgcaggagcaagaaggatgcggatgcgt...ctg', SingleLetterAlphabet()), id='ludwig_eve-striped-2||memb002c|+', name='<unknown name>', description='<unknown description>', dbxrefs=[]), SeqRecord(seq=Seq('atataacccaataatttgaactaactcgcaggagcggcaagaaggatgcgttgt...cta', SingleLetterAlphabet()), id='ludwig_eve-striped-2||memb002d|+', name='<unknown name>', description='<unknown description>', dbxrefs=[]), SeqRecord(seq=Seq('atataacccaataattttaactaactcgcaggagcaagaaggatgcgttgttac...cgc', SingleLetterAlphabet()), id='ludwig_eve-striped-2||memb002f|+', name='<unknown name>', description='<unknown description>', dbxrefs=[]), SeqRecord(seq=Seq('atataacccaataattttaactaactcgcaggagcggcaagaaggatgcgtttg...ggc', SingleLetterAlphabet()), id='ludwig_eve-striped-2||memb003b|+', name='<unknown name>', description='<unknown description>', dbxrefs=[]), SeqRecord(seq=Seq('atataacccaataattttaactaactcgcaggagcggcaagaaggatgcgttgt...ggc', SingleLetterAlphabet()), id='ludwig_eve-striped-2||memb003f|+', name='<unknown name>', description='<unknown description>', dbxrefs=[])]\n"
     ]
    }
   ],
   "source": [
    "raw_sequences = []\n",
    "for record in alignment:\n",
    "    raw_sequences.append(SeqRecord(record.seq.ungap(\"-\"), id = record.id))\n",
    "\n",
    "print (raw_sequences)"
   ]
  },
  {
   "cell_type": "code",
   "execution_count": 353,
   "metadata": {},
   "outputs": [
    {
     "name": "stdout",
     "output_type": "stream",
     "text": [
      "-f\n"
     ]
    }
   ],
   "source": [
    "print (os.path.basename(sys.argv[1]))"
   ]
  },
  {
   "cell_type": "code",
   "execution_count": 354,
   "metadata": {},
   "outputs": [
    {
     "name": "stdout",
     "output_type": "stream",
     "text": [
      "ID: ludwig_eve-striped-2||memb002e|-\n",
      "Name: <unknown name>\n",
      "Description: <unknown description>\n",
      "Number of features: 0\n",
      "Seq('atataacccaataattttaactaactcgcaggagcggcaagaaggatgcgttgt...ggc', SingleLetterAlphabet())\n"
     ]
    }
   ],
   "source": [
    "print(SeqRecord(record.seq.ungap(\"-\"), id = alignment[0].id))"
   ]
  },
  {
   "cell_type": "code",
   "execution_count": 355,
   "metadata": {
    "collapsed": true
   },
   "outputs": [],
   "source": [
    "raw_sequences_2 = []\n",
    "for seq in raw_sequences:\n",
    "    raw_sequences_2.append(Seq(str(seq.seq), IUPAC.IUPACUnambiguousDNA()))"
   ]
  },
  {
   "cell_type": "code",
   "execution_count": 356,
   "metadata": {},
   "outputs": [
    {
     "name": "stdout",
     "output_type": "stream",
     "text": [
      "[Seq('atataacccaataattttaactaactcgcaggagcggcaagaaggatgcgttgt...cta', IUPACUnambiguousDNA()), Seq('atataacccaataattttaactaactcgcaggagcaagaaggatgcggatgcgt...ctg', IUPACUnambiguousDNA()), Seq('atataacccaataattttaactaactcgcaggagcggccagaaggatgcgttgt...cgc', IUPACUnambiguousDNA()), Seq('atataacccaataatttgaactaactcgcaggagcaagaaggatgcggatgcgt...ctg', IUPACUnambiguousDNA()), Seq('atataacccaataattttaactaactcgcaggagcaagaaggatgcggatgcgt...ctg', IUPACUnambiguousDNA()), Seq('atataacccaataatttgaactaactcgcaggagcggcaagaaggatgcgttgt...cta', IUPACUnambiguousDNA()), Seq('atataacccaataattttaactaactcgcaggagcaagaaggatgcgttgttac...cgc', IUPACUnambiguousDNA()), Seq('atataacccaataattttaactaactcgcaggagcggcaagaaggatgcgtttg...ggc', IUPACUnambiguousDNA()), Seq('atataacccaataattttaactaactcgcaggagcggcaagaaggatgcgttgt...ggc', IUPACUnambiguousDNA())]\n"
     ]
    }
   ],
   "source": [
    "print (raw_sequences_2)"
   ]
  },
  {
   "cell_type": "code",
   "execution_count": 357,
   "metadata": {
    "collapsed": true
   },
   "outputs": [],
   "source": [
    "pwm = motif.counts.normalize(pseudocounts=0.0)# Doesn't change from pwm\n",
    "pssm = pwm.log_odds()\n",
    "motif_length = len(motif) #for later retrival of nucleotide sequence"
   ]
  },
  {
   "cell_type": "code",
   "execution_count": 358,
   "metadata": {
    "collapsed": true
   },
   "outputs": [],
   "source": [
    "?motif.counts.normalize"
   ]
  },
  {
   "cell_type": "code",
   "execution_count": 359,
   "metadata": {},
   "outputs": [
    {
     "name": "stdout",
     "output_type": "stream",
     "text": [
      "        0      1      2      3\n",
      "A:   0.09   0.73   0.40   0.32\n",
      "C:   0.08   0.15   0.20   0.63\n",
      "G:   0.41   0.08   0.20   0.03\n",
      "T:   0.42   0.04   0.20   0.02\n",
      "\n"
     ]
    }
   ],
   "source": [
    "print(pwm)"
   ]
  },
  {
   "cell_type": "code",
   "execution_count": 360,
   "metadata": {},
   "outputs": [
    {
     "name": "stdout",
     "output_type": "stream",
     "text": [
      "        0      1      2      3\n",
      "A:  -1.50   1.55   0.68   0.37\n",
      "C:  -1.65  -0.70  -0.32   1.33\n",
      "G:   0.70  -1.70  -0.32  -2.88\n",
      "T:   0.76  -2.70  -0.32  -3.88\n",
      "\n"
     ]
    }
   ],
   "source": [
    "print(pssm)"
   ]
  },
  {
   "cell_type": "code",
   "execution_count": 361,
   "metadata": {},
   "outputs": [
    {
     "name": "stdout",
     "output_type": "stream",
     "text": [
      "4\n"
     ]
    }
   ],
   "source": [
    "print(motif_length)"
   ]
  },
  {
   "cell_type": "code",
   "execution_count": 362,
   "metadata": {
    "collapsed": true
   },
   "outputs": [],
   "source": [
    "#what does pwm = motif.counts.normalize(pseudocounts=0.0) do? what does log_odds() do?"
   ]
  },
  {
   "cell_type": "code",
   "execution_count": 363,
   "metadata": {
    "collapsed": true
   },
   "outputs": [],
   "source": [
    "pssm_list = [ ]\n",
    "for seq in raw_sequences_2:\n",
    "    pssm_list.append(pssm.calculate(seq))"
   ]
  },
  {
   "cell_type": "code",
   "execution_count": 364,
   "metadata": {},
   "outputs": [],
   "source": [
    "#print(pssm.calculate(raw_sequences_2[0]))"
   ]
  },
  {
   "cell_type": "code",
   "execution_count": 365,
   "metadata": {},
   "outputs": [],
   "source": [
    "#print(raw_sequences_2[0])"
   ]
  },
  {
   "cell_type": "code",
   "execution_count": 366,
   "metadata": {
    "collapsed": true
   },
   "outputs": [],
   "source": [
    "## Approximate calculation of appropriate thresholds for motif finding \n",
    "## Patser Threshold\n",
    "## It selects such a threshold that the log(fpr)=-ic(M) \n",
    "#?????"
   ]
  },
  {
   "cell_type": "code",
   "execution_count": 367,
   "metadata": {
    "collapsed": true
   },
   "outputs": [],
   "source": [
    "distribution = pssm.distribution(background=motif.background, precision=10**4)\n",
    "patser_threshold = distribution.threshold_patser() #for use later\n",
    "\n",
    "## for sys.out\n",
    "#print(\"Patser Threshold is %5.3f\" % patser_threshold) # Calculates Paster threshold. \n"
   ]
  },
  {
   "cell_type": "code",
   "execution_count": 368,
   "metadata": {
    "collapsed": true
   },
   "outputs": [],
   "source": [
    "raw_id = []\n",
    "for seq in raw_sequences:\n",
    "    raw_id.append(seq.id)"
   ]
  },
  {
   "cell_type": "code",
   "execution_count": 369,
   "metadata": {
    "collapsed": true
   },
   "outputs": [],
   "source": [
    "record_length = []\n",
    "for record in raw_sequences_2:\n",
    "    record_length.append(len(record))"
   ]
  },
  {
   "cell_type": "code",
   "execution_count": 370,
   "metadata": {},
   "outputs": [
    {
     "name": "stdout",
     "output_type": "stream",
     "text": [
      "atataacccaataattttaactaactcgcaggagcggcaagaaggatgcgttgttacccggtaatgcataacaatggtcctcggaacggggaattggaaactaggacatggatcgaaggttcctcctcaccctgtctctgtgtgtgtttgtgccgtgttaatccgttttccatcagccagattattagtcaattttgggccagttttccagcatttcccttttggcatcgtttcactttcgagttagattttattgccgcatcttgaacaatcgaaacggagttttggtaacacgctgtgctctacttttactggctttcaattgagaacggaattaaacggaattccgggagttaagagaagacaggagacaggagacaggctagagaccctgactagaggccaaaaaccgggttgcaaagtcaggagattccgttcgaatgcaaggactctaacccagtttgtttgtttgtttgctgggattagccgagggcttgacttggtaccccgatcccgaagatctttgagccgcgatcccgtttcccgattttcattagaaagtcataaaaacacataataatgatgtcgaagggattagctggacatatccctatccctggcccaaaggcaggcagcctagctttgctgggtttattttttgcgctgacttaacccttaatcctcagcagcttaagcgtagcaggtagagttctggtatcccttttttgcgcaaactttgttgtgtttttgttgtgtagtcccccccctttgaaaggaccttctgccagggggtacagttgcctccaactgggcatgattatatcatcataataaatgttttgcccaacgaaaccgtagctaaaacttttcaaattaagtctccagcaactgaggccgttcctcctggaacccagccattatcctgcta\n"
     ]
    }
   ],
   "source": [
    "print (raw_sequences_2[0])"
   ]
  },
  {
   "cell_type": "code",
   "execution_count": 371,
   "metadata": {
    "collapsed": true
   },
   "outputs": [],
   "source": [
    "position_list = []\n",
    "## instead maybe for i in range(len(raw_id)) \n",
    "#maybe take an argument for the threshold\n",
    "for i in range(0,8): #number of gene sequences \n",
    "    for position, score in pssm.search(raw_sequences_2[i], threshold = patser_threshold):\n",
    "        positions = {'species': raw_id[i], 'score':score, 'position':position, 'seq_len': record_length[i] }\n",
    "        position_list.append(positions)"
   ]
  },
  {
   "cell_type": "code",
   "execution_count": 372,
   "metadata": {
    "collapsed": true
   },
   "outputs": [],
   "source": [
    "#for ____, _____ in ?\n",
    "#why range(0,8)?"
   ]
  },
  {
   "cell_type": "code",
   "execution_count": 373,
   "metadata": {},
   "outputs": [
    {
     "name": "stdout",
     "output_type": "stream",
     "text": [
      "ludwig_eve-striped-2||memb002e|-\n"
     ]
    }
   ],
   "source": [
    "print (raw_id[0])"
   ]
  },
  {
   "cell_type": "code",
   "execution_count": 374,
   "metadata": {
    "collapsed": true
   },
   "outputs": [],
   "source": [
    "position_DF = pd.DataFrame(position_list)"
   ]
  },
  {
   "cell_type": "code",
   "execution_count": 375,
   "metadata": {},
   "outputs": [],
   "source": [
    "#print (pd.DataFrame(position_list))"
   ]
  },
  {
   "cell_type": "code",
   "execution_count": 376,
   "metadata": {},
   "outputs": [],
   "source": [
    "#print (position_list)"
   ]
  },
  {
   "cell_type": "code",
   "execution_count": 377,
   "metadata": {
    "collapsed": true
   },
   "outputs": [],
   "source": [
    "#############################\n",
    "## Add strand and pos position information as columns to position_DF\n",
    "#############################\n",
    "\n",
    "position_list_pos = []\n",
    "for i, x in enumerate(position_DF['position']):\n",
    "    if x < 0:\n",
    "       position_list_pos.append(position_DF.loc[position_DF.index[i], 'seq_len'] + x)\n",
    "    else:\n",
    "       position_list_pos.append(x)\n",
    "\n"
   ]
  },
  {
   "cell_type": "code",
   "execution_count": 378,
   "metadata": {},
   "outputs": [
    {
     "name": "stdout",
     "output_type": "stream",
     "text": [
      "-927\n"
     ]
    }
   ],
   "source": [
    "print (position_DF['position'][1])"
   ]
  },
  {
   "cell_type": "code",
   "execution_count": 379,
   "metadata": {
    "collapsed": true
   },
   "outputs": [],
   "source": [
    "##what is position mean? why does it skip around instead of incrementing?\n",
    "##what is position_DF.loc[position_DF.index[0], 'seq_len']\n",
    "##how does one use DataFrames?\n",
    "##what does position_list_pos mean?"
   ]
  },
  {
   "cell_type": "code",
   "execution_count": 380,
   "metadata": {},
   "outputs": [
    {
     "name": "stdout",
     "output_type": "stream",
     "text": [
      "928\n"
     ]
    }
   ],
   "source": [
    "print (position_DF.loc[position_DF.index[0], 'seq_len'])"
   ]
  },
  {
   "cell_type": "code",
   "execution_count": 381,
   "metadata": {
    "collapsed": true
   },
   "outputs": [],
   "source": [
    "## append to position_DF\n",
    "position_DF['raw_position'] = position_list_pos\n",
    "    \n",
    "## strand Column\n",
    "strand = []\n",
    "for x in position_DF['position']:\n",
    "    if x < 0:\n",
    "       strand.append(\"negative\")\n",
    "    else:\n",
    "       strand.append(\"positive\")"
   ]
  },
  {
   "cell_type": "code",
   "execution_count": 382,
   "metadata": {
    "scrolled": true
   },
   "outputs": [],
   "source": [
    "    \n",
    "## append to position_DF\n",
    "position_DF['strand'] = strand\n",
    "\n",
    "## motif_found column\n",
    "raw_sequences_2_list = []"
   ]
  },
  {
   "cell_type": "code",
   "execution_count": 383,
   "metadata": {
    "collapsed": true
   },
   "outputs": [],
   "source": [
    "for seq in raw_sequences_2:\n",
    "    raw_sequences_2_list.append(str(seq))"
   ]
  },
  {
   "cell_type": "code",
   "execution_count": 384,
   "metadata": {},
   "outputs": [
    {
     "name": "stdout",
     "output_type": "stream",
     "text": [
      "{'species': 'ludwig_eve-striped-2||memb003b|+', 'score': 0.046299644, 'position': -4, 'seq_len': 909}\n",
      "0.0462996\n"
     ]
    }
   ],
   "source": [
    "##################\n",
    "## get alignment position \n",
    "#################\n",
    "\n",
    "remap_list = []\n",
    "nuc_list = ['A', 'a', 'G', 'g', 'C', 'c', 'T', 't', 'N', 'n']\n",
    "\n",
    "## Prepping for the loop below\n",
    "positions = {'score':score, 'position':position, 'species': i}\n",
    "position_list.append(positions)\n",
    "print (positions)\n",
    "print(score)"
   ]
  },
  {
   "cell_type": "code",
   "execution_count": 385,
   "metadata": {},
   "outputs": [
    {
     "name": "stdout",
     "output_type": "stream",
     "text": [
      "0.0462996\n"
     ]
    }
   ],
   "source": [
    "print(score)"
   ]
  },
  {
   "cell_type": "code",
   "execution_count": 386,
   "metadata": {
    "collapsed": true
   },
   "outputs": [],
   "source": [
    "#how are you using score if it was never deffined?"
   ]
  },
  {
   "cell_type": "code",
   "execution_count": 387,
   "metadata": {},
   "outputs": [],
   "source": [
    "##use len... instead of 9 here\n",
    "##counter keeps track of where you are in new sequence \n",
    "##xInd keeps track of where you are in old sequence including dashes\n",
    "for i in range(0,9):\n",
    "    counter = 0\n",
    "    for xInd, x in enumerate(alignment[i].seq):    \n",
    "        #if not - instead of nuc_list?\n",
    "        if x in nuc_list:\n",
    "            remaps = {'raw_position': counter, 'align_position':xInd, 'species':alignment[i].id}\n",
    "            counter += 1\n",
    "            remap_list.append(remaps)\n",
    "            \n",
    "remap_DF = pd.DataFrame(remap_list)\n",
    "\n",
    "##print (remap_DF)\n",
    "##removes dashes\n",
    "##I thought you used a dictionary here for each 'word' instead of a loop?"
   ]
  },
  {
   "cell_type": "code",
   "execution_count": 388,
   "metadata": {},
   "outputs": [
    {
     "name": "stdout",
     "output_type": "stream",
     "text": [
      "['A', 'a', 'G', 'g', 'C', 'c', 'T', 't', 'N', 'n']\n"
     ]
    }
   ],
   "source": [
    "print(nuc_list)"
   ]
  },
  {
   "cell_type": "code",
   "execution_count": 389,
   "metadata": {},
   "outputs": [
    {
     "name": "stdout",
     "output_type": "stream",
     "text": [
      "      position     score  seq_len                           species  \\\n",
      "0          1.0  2.355628    928.0  ludwig_eve-striped-2||memb002e|-   \n",
      "1       -927.0  2.355628    928.0  ludwig_eve-striped-2||memb002e|-   \n",
      "2          3.0  4.317153    928.0  ludwig_eve-striped-2||memb002e|-   \n",
      "3          4.0  1.054119    928.0  ludwig_eve-striped-2||memb002e|-   \n",
      "4          9.0  0.092593    928.0  ludwig_eve-striped-2||memb002e|-   \n",
      "5       -914.0  1.092593    928.0  ludwig_eve-striped-2||memb002e|-   \n",
      "6       -913.0  3.355628    928.0  ludwig_eve-striped-2||memb002e|-   \n",
      "7         17.0  4.317153    928.0  ludwig_eve-striped-2||memb002e|-   \n",
      "8         21.0  4.317153    928.0  ludwig_eve-striped-2||memb002e|-   \n",
      "9         25.0  1.069226    928.0  ludwig_eve-striped-2||memb002e|-   \n",
      "10      -903.0  0.046300    928.0  ludwig_eve-striped-2||memb002e|-   \n",
      "11        31.0  3.255753    928.0  ludwig_eve-striped-2||memb002e|-   \n",
      "12      -897.0  1.007825    928.0  ludwig_eve-striped-2||memb002e|-   \n",
      "13      -893.0  0.069226    928.0  ludwig_eve-striped-2||memb002e|-   \n",
      "14        36.0  1.046300    928.0  ludwig_eve-striped-2||memb002e|-   \n",
      "15        38.0  0.092593    928.0  ludwig_eve-striped-2||memb002e|-   \n",
      "16        40.0  0.046300    928.0  ludwig_eve-striped-2||memb002e|-   \n",
      "17      -884.0  0.902116    928.0  ludwig_eve-striped-2||memb002e|-   \n",
      "18      -879.0  1.902116    928.0  ludwig_eve-striped-2||memb002e|-   \n",
      "19      -877.0  0.092593    928.0  ludwig_eve-striped-2||memb002e|-   \n",
      "20      -876.0  4.317153    928.0  ludwig_eve-striped-2||memb002e|-   \n",
      "21        53.0  0.069226    928.0  ludwig_eve-striped-2||memb002e|-   \n",
      "22        54.0  3.317153    928.0  ludwig_eve-striped-2||memb002e|-   \n",
      "23      -869.0  3.317153    928.0  ludwig_eve-striped-2||memb002e|-   \n",
      "24      -868.0  0.069226    928.0  ludwig_eve-striped-2||memb002e|-   \n",
      "25        66.0 -0.059410    928.0  ludwig_eve-striped-2||memb002e|-   \n",
      "26        68.0  4.317153    928.0  ludwig_eve-striped-2||memb002e|-   \n",
      "27        69.0  0.092593    928.0  ludwig_eve-striped-2||memb002e|-   \n",
      "28        75.0  0.007825    928.0  ludwig_eve-striped-2||memb002e|-   \n",
      "29      -853.0  3.255753    928.0  ludwig_eve-striped-2||memb002e|-   \n",
      "...        ...       ...      ...                               ...   \n",
      "8608       NaN       NaN      NaN  ludwig_eve-striped-2||memb003f|+   \n",
      "8609       NaN       NaN      NaN  ludwig_eve-striped-2||memb003f|+   \n",
      "8610       NaN       NaN      NaN  ludwig_eve-striped-2||memb003f|+   \n",
      "8611       NaN       NaN      NaN  ludwig_eve-striped-2||memb003f|+   \n",
      "8612       NaN       NaN      NaN  ludwig_eve-striped-2||memb003f|+   \n",
      "8613       NaN       NaN      NaN  ludwig_eve-striped-2||memb003f|+   \n",
      "8614       NaN       NaN      NaN  ludwig_eve-striped-2||memb003f|+   \n",
      "8615       NaN       NaN      NaN  ludwig_eve-striped-2||memb003f|+   \n",
      "8616       NaN       NaN      NaN  ludwig_eve-striped-2||memb003f|+   \n",
      "8617       NaN       NaN      NaN  ludwig_eve-striped-2||memb003f|+   \n",
      "8618       NaN       NaN      NaN  ludwig_eve-striped-2||memb003f|+   \n",
      "8619       NaN       NaN      NaN  ludwig_eve-striped-2||memb003f|+   \n",
      "8620       NaN       NaN      NaN  ludwig_eve-striped-2||memb003f|+   \n",
      "8621       NaN       NaN      NaN  ludwig_eve-striped-2||memb003f|+   \n",
      "8622       NaN       NaN      NaN  ludwig_eve-striped-2||memb003f|+   \n",
      "8623       NaN       NaN      NaN  ludwig_eve-striped-2||memb003f|+   \n",
      "8624       NaN       NaN      NaN  ludwig_eve-striped-2||memb003f|+   \n",
      "8625       NaN       NaN      NaN  ludwig_eve-striped-2||memb003f|+   \n",
      "8626       NaN       NaN      NaN  ludwig_eve-striped-2||memb003f|+   \n",
      "8627       NaN       NaN      NaN  ludwig_eve-striped-2||memb003f|+   \n",
      "8628       NaN       NaN      NaN  ludwig_eve-striped-2||memb003f|+   \n",
      "8629       NaN       NaN      NaN  ludwig_eve-striped-2||memb003f|+   \n",
      "8630       NaN       NaN      NaN  ludwig_eve-striped-2||memb003f|+   \n",
      "8631       NaN       NaN      NaN  ludwig_eve-striped-2||memb003f|+   \n",
      "8632       NaN       NaN      NaN  ludwig_eve-striped-2||memb003f|+   \n",
      "8633       NaN       NaN      NaN  ludwig_eve-striped-2||memb003f|+   \n",
      "8634       NaN       NaN      NaN  ludwig_eve-striped-2||memb003f|+   \n",
      "8635       NaN       NaN      NaN  ludwig_eve-striped-2||memb003f|+   \n",
      "8636       NaN       NaN      NaN  ludwig_eve-striped-2||memb003f|+   \n",
      "8637       NaN       NaN      NaN  ludwig_eve-striped-2||memb003f|+   \n",
      "\n",
      "      raw_position    strand  align_position  \n",
      "0                1  positive               1  \n",
      "1                1  negative               1  \n",
      "2                3  positive               3  \n",
      "3                4  positive               4  \n",
      "4                9  positive               9  \n",
      "5               14  negative              14  \n",
      "6               15  negative              15  \n",
      "7               17  positive              17  \n",
      "8               21  positive              21  \n",
      "9               25  positive              25  \n",
      "10              25  negative              25  \n",
      "11              31  positive              31  \n",
      "12              31  negative              31  \n",
      "13              35  negative              35  \n",
      "14              36  positive              36  \n",
      "15              38  positive              38  \n",
      "16              40  positive              40  \n",
      "17              44  negative              44  \n",
      "18              49  negative              49  \n",
      "19              51  negative              51  \n",
      "20              52  negative              52  \n",
      "21              53  positive              53  \n",
      "22              54  positive              54  \n",
      "23              59  negative              59  \n",
      "24              60  negative              60  \n",
      "25              66  positive              66  \n",
      "26              68  positive              68  \n",
      "27              69  positive              69  \n",
      "28              75  positive              75  \n",
      "29              75  negative              75  \n",
      "...            ...       ...             ...  \n",
      "8608           838       NaN             838  \n",
      "8609           839       NaN             839  \n",
      "8610           840       NaN             840  \n",
      "8611           841       NaN             841  \n",
      "8612           842       NaN             842  \n",
      "8613           843       NaN             843  \n",
      "8614           844       NaN             844  \n",
      "8615           845       NaN             845  \n",
      "8616           846       NaN             846  \n",
      "8617           847       NaN             847  \n",
      "8618           848       NaN             848  \n",
      "8619           849       NaN             849  \n",
      "8620           850       NaN             850  \n",
      "8621           851       NaN             851  \n",
      "8622           852       NaN             852  \n",
      "8623           853       NaN             853  \n",
      "8624           854       NaN             854  \n",
      "8625           855       NaN             855  \n",
      "8626           856       NaN             856  \n",
      "8627           857       NaN             857  \n",
      "8628           858       NaN             858  \n",
      "8629           859       NaN             859  \n",
      "8630           860       NaN             860  \n",
      "8631           861       NaN             861  \n",
      "8632           862       NaN             862  \n",
      "8633           863       NaN             863  \n",
      "8634           864       NaN             864  \n",
      "8635           865       NaN             865  \n",
      "8636           866       NaN             866  \n",
      "8637           867       NaN             867  \n",
      "\n",
      "[8638 rows x 7 columns]\n"
     ]
    }
   ],
   "source": [
    "\n",
    "## Merge both datasets\n",
    "## Merge - all sites\n",
    "## what does pd.merge do?? how does it do that with different length lists?\n",
    "\n",
    "#print(position_DF)\n",
    "#print(remap_DF)\n",
    "TFBS_map_DF_all = pd.merge(position_DF, remap_DF, on=['species', 'raw_position'], how='outer')\n",
    "print(TFBS_map_DF_all)"
   ]
  },
  {
   "cell_type": "code",
   "execution_count": 390,
   "metadata": {},
   "outputs": [],
   "source": [
    "\n",
    "## Sort\n",
    "TFBS_map_DF_all = TFBS_map_DF_all.sort_values(by=['species','align_position'], ascending=[True, True])\n",
    "\n",
    "## Attach File Name\n",
    "TFBS_map_DF_all['alignment_file'] = alignment_file_name\n",
    "TFBS_map_DF_all['motif_file'] = motif_file_name\n",
    "\n",
    "## Remove NAs\n",
    "TFBS_map_DF_all = TFBS_map_DF_all.dropna()   \n",
    "\n",
    "\n",
    "## Write out Files\n",
    "TFBS_map_DF_all.to_csv('map_motif' + alignment_file_name + \"-\" + motif_file_name + \".csv\", sep='\\t', na_rep=\"NA\")"
   ]
  },
  {
   "cell_type": "code",
   "execution_count": null,
   "metadata": {
    "collapsed": true
   },
   "outputs": [],
   "source": []
  }
 ],
 "metadata": {
  "kernelspec": {
   "display_name": "Python 3",
   "language": "python",
   "name": "python3"
  },
  "language_info": {
   "codemirror_mode": {
    "name": "ipython",
    "version": 3
   },
   "file_extension": ".py",
   "mimetype": "text/x-python",
   "name": "python",
   "nbconvert_exporter": "python",
   "pygments_lexer": "ipython3",
   "version": "3.6.1"
  }
 },
 "nbformat": 4,
 "nbformat_minor": 2
}
