{
 "cells": [
  {
   "cell_type": "code",
   "execution_count": 3,
   "metadata": {
    "collapsed": true
   },
   "outputs": [],
   "source": [
    "#!/usr/bin/env python\n",
    "#map_motif.py\n",
    "#Ciera Martinez\n",
    "\n",
    "import re\n",
    "import pandas as pd\n",
    "import numpy as np\n",
    "import os, sys\n",
    "from Bio import motifs\n",
    "from Bio import SeqIO \n",
    "from Bio.Seq import Seq\n",
    "from Bio.SeqRecord import SeqRecord\n",
    "from Bio.Alphabet import IUPAC, generic_dna, generic_protein\n",
    "from collections import defaultdict"
   ]
  },
  {
   "cell_type": "code",
   "execution_count": 8,
   "metadata": {},
   "outputs": [
    {
     "ename": "NameError",
     "evalue": "name 'SeqIO' is not defined",
     "output_type": "error",
     "traceback": [
      "\u001b[0;31m---------------------------------------------------------------------------\u001b[0m",
      "\u001b[0;31mNameError\u001b[0m                                 Traceback (most recent call last)",
      "\u001b[0;32m<ipython-input-8-477b2e14deeb>\u001b[0m in \u001b[0;36m<module>\u001b[0;34m()\u001b[0m\n\u001b[1;32m      1\u001b[0m \u001b[0;31m## read in alignment and motif\u001b[0m\u001b[0;34m\u001b[0m\u001b[0;34m\u001b[0m\u001b[0m\n\u001b[0;32m----> 2\u001b[0;31m \u001b[0malignment\u001b[0m \u001b[0;34m=\u001b[0m \u001b[0mlist\u001b[0m\u001b[0;34m(\u001b[0m\u001b[0mSeqIO\u001b[0m\u001b[0;34m.\u001b[0m\u001b[0mparse\u001b[0m\u001b[0;34m(\u001b[0m\u001b[0;34m\"exampleAlignment/ludwig_eve-striped-2.fasta\"\u001b[0m\u001b[0;34m,\u001b[0m \u001b[0;34m\"fasta\"\u001b[0m\u001b[0;34m)\u001b[0m\u001b[0;34m)\u001b[0m\u001b[0;34m\u001b[0m\u001b[0m\n\u001b[0m\u001b[1;32m      3\u001b[0m \u001b[0mmotif\u001b[0m \u001b[0;34m=\u001b[0m \u001b[0mmotifs\u001b[0m\u001b[0;34m.\u001b[0m\u001b[0mread\u001b[0m\u001b[0;34m(\u001b[0m\u001b[0mopen\u001b[0m\u001b[0;34m(\u001b[0m\u001b[0;34m\"Dmel_pwms/bcd_FlyReg.fm\"\u001b[0m\u001b[0;34m)\u001b[0m\u001b[0;34m,\u001b[0m \u001b[0;34m\"pfm\"\u001b[0m\u001b[0;34m)\u001b[0m\u001b[0;34m\u001b[0m\u001b[0m\n\u001b[1;32m      4\u001b[0m \u001b[0;34m\u001b[0m\u001b[0m\n\u001b[1;32m      5\u001b[0m \u001b[0;31m# Used later when marking output file\u001b[0m\u001b[0;34m\u001b[0m\u001b[0;34m\u001b[0m\u001b[0m\n",
      "\u001b[0;31mNameError\u001b[0m: name 'SeqIO' is not defined"
     ]
    }
   ],
   "source": [
    "## read in alignment and motif \n",
    "alignment = list(SeqIO.parse(\"exampleAlignment/ludwig_eve-striped-2.fasta\", \"fasta\"))\n",
    "motif = motifs.read(open(\"Dmel_pwms/bcd_FlyReg.fm\"), \"pfm\")\n",
    "\n",
    "# Used later when marking output file\n",
    "## alignment_file_name =  os.path.basename(sys.argv[1])\n",
    "## motif_file_name =  os.path.basename(sys.argv[2])\n",
    "\n",
    "## print(alignment_file_name)\n",
    "## print(motif_file_name)\n",
    "\n",
    "print(alignment)\n",
    "print(motif)"
   ]
  },
  {
   "cell_type": "markdown",
   "metadata": {},
   "source": [
    "This part is doing ...."
   ]
  },
  {
   "cell_type": "code",
   "execution_count": 12,
   "metadata": {},
   "outputs": [
    {
     "name": "stdout",
     "output_type": "stream",
     "text": [
      "[SeqRecord(seq=Seq('atataacccaataattttaactaactcgcaggagcggcaagaaggatgcgttgt...cta', SingleLetterAlphabet()), id='ludwig_eve-striped-2||memb002e|-', name='<unknown name>', description='<unknown description>', dbxrefs=[]), SeqRecord(seq=Seq('atataacccaataattttaactaactcgcaggagcaagaaggatgcggatgcgt...ctg', SingleLetterAlphabet()), id='ludwig_eve-striped-2||memb003c|-', name='<unknown name>', description='<unknown description>', dbxrefs=[]), SeqRecord(seq=Seq('atataacccaataattttaactaactcgcaggagcggccagaaggatgcgttgt...cgc', SingleLetterAlphabet()), id='ludwig_eve-striped-2||memb003d|-', name='<unknown name>', description='<unknown description>', dbxrefs=[]), SeqRecord(seq=Seq('atataacccaataatttgaactaactcgcaggagcaagaaggatgcggatgcgt...ctg', SingleLetterAlphabet()), id='ludwig_eve-striped-2||memb002a|+', name='<unknown name>', description='<unknown description>', dbxrefs=[]), SeqRecord(seq=Seq('atataacccaataattttaactaactcgcaggagcaagaaggatgcggatgcgt...ctg', SingleLetterAlphabet()), id='ludwig_eve-striped-2||memb002c|+', name='<unknown name>', description='<unknown description>', dbxrefs=[]), SeqRecord(seq=Seq('atataacccaataatttgaactaactcgcaggagcggcaagaaggatgcgttgt...cta', SingleLetterAlphabet()), id='ludwig_eve-striped-2||memb002d|+', name='<unknown name>', description='<unknown description>', dbxrefs=[]), SeqRecord(seq=Seq('atataacccaataattttaactaactcgcaggagcaagaaggatgcgttgttac...cgc', SingleLetterAlphabet()), id='ludwig_eve-striped-2||memb002f|+', name='<unknown name>', description='<unknown description>', dbxrefs=[]), SeqRecord(seq=Seq('atataacccaataattttaactaactcgcaggagcggcaagaaggatgcgtttg...ggc', SingleLetterAlphabet()), id='ludwig_eve-striped-2||memb003b|+', name='<unknown name>', description='<unknown description>', dbxrefs=[]), SeqRecord(seq=Seq('atataacccaataattttaactaactcgcaggagcggcaagaaggatgcgttgt...ggc', SingleLetterAlphabet()), id='ludwig_eve-striped-2||memb003f|+', name='<unknown name>', description='<unknown description>', dbxrefs=[])]\n"
     ]
    }
   ],
   "source": [
    "raw_sequences = []\n",
    "for record in alignment:\n",
    "    raw_sequences.append(SeqRecord(record.seq.ungap(\"-\"), id = record.id))\n",
    "\n",
    "print (raw_sequences)"
   ]
  },
  {
   "cell_type": "code",
   "execution_count": null,
   "metadata": {
    "collapsed": true
   },
   "outputs": [],
   "source": []
  },
  {
   "cell_type": "code",
   "execution_count": null,
   "metadata": {},
   "outputs": [],
   "source": []
  },
  {
   "cell_type": "code",
   "execution_count": 9,
   "metadata": {
    "collapsed": true
   },
   "outputs": [],
   "source": [
    "#!/usr/bin/env python\n",
    "#map_motif.py\n",
    "#Ciera Martinez\n",
    "\n",
    "import re\n",
    "import pandas as pd\n",
    "import numpy as np\n",
    "import os, sys\n",
    "from Bio import motifs\n",
    "from Bio import SeqIO \n",
    "from Bio.Seq import Seq\n",
    "from Bio.SeqRecord import SeqRecord\n",
    "from Bio.Alphabet import IUPAC, generic_dna, generic_protein\n",
    "from collections import defaultdict"
   ]
  },
  {
   "cell_type": "code",
   "execution_count": 26,
   "metadata": {},
   "outputs": [
    {
     "name": "stdout",
     "output_type": "stream",
     "text": [
      "ID: ludwig_eve-striped-2||memb003c|-\n",
      "Name: ludwig_eve-striped-2||memb003c|-\n",
      "Description: ludwig_eve-striped-2||memb003c|-\n",
      "Number of features: 0\n",
      "Seq('atataacccaataattttaactaactcgcaggagcaagaaggatgcggatgcgt...ctg', SingleLetterAlphabet())\n",
      "TF name\tNone\n",
      "Matrix ID\tNone\n",
      "Matrix:\n",
      "        0      1      2      3\n",
      "A:   0.19   0.37   0.08   0.37\n",
      "C:   0.17   0.08   0.04   0.71\n",
      "G:   0.88   0.04   0.04   0.04\n",
      "T:   0.92   0.02   0.04   0.02\n",
      "\n",
      "\n",
      "\n"
     ]
    }
   ],
   "source": [
    "## read in alignment and motif \n",
    "alignment = list(SeqIO.parse(\"exampleAlignment/ludwig_eve-striped-2.fasta\", \"fasta\"))\n",
    "motif = motifs.read(open(\"Dmel_pwms/bcd_FlyReg.fm\"), \"pfm\")\n",
    "\n",
    "# Used later when marking output file\n",
    "## alignment_file_name =  os.path.basename(sys.argv[1])\n",
    "## motif_file_name =  os.path.basename(sys.argv[2])\n",
    "\n",
    "## print(alignment_file_name)\n",
    "## print(motif_file_name)\n",
    "\n",
    "print(alignment[1])\n",
    "print(motif)"
   ]
  },
  {
   "cell_type": "code",
   "execution_count": 32,
   "metadata": {},
   "outputs": [
    {
     "name": "stdout",
     "output_type": "stream",
     "text": [
      "atataacccaataattttaactaactcgcaggagcggcaagaaggatgcgttgttacccggtaatgcataacaatggtcctcggaacggggaattggaaactaggacatggatcgaaggttcctcctcaccctgtctctgtgtgtgtttgtgccgtgttaatccgttttccatcagccagattattagtcaattttgggccagttttccagcatttcccttttggcatcgtttcactttcgagttagattttattgccgcatcttgaacaatcgaaacggagttttggtaacacgctgtgctctacttttactggctttcaattgagaacggaattaaacggaattccgggagttaagagaagacaggagacaggagacaggctagagaccctgactagaggccaaaaaccgggttgcaaagtcaggagattccgttcgaatgcaaggactctaacccagtttgtttgtttgtttgctgggattagccgagggcttgacttggtaccccgatcccgaagatctttgagccgcgatcccgtttcccgattttcattagaaagtcataaaaacacataataatgatgtcgaagggattagctggacatatccctatccctggcccaaaggcaggcagcctagctttgctgggtttattttttgcgctgacttaacccttaatcctcagcagcttaagcgtagcaggtagagttctggtatcccttttttgcgcaaactttgttgtgtttttgttgtgtagtcccccccctttgaaaggaccttctgccagggggtacagttgcctccaactgggcatgattatatcatcataataaatgttttgcccaacgaaaccgtagctaaaacttttcaaattaagtctccagcaactgaggccgttcctcctggaacccagccattatcctgcta\n"
     ]
    }
   ],
   "source": [
    "print(alignment[0].seq)"
   ]
  },
  {
   "cell_type": "code",
   "execution_count": 17,
   "metadata": {},
   "outputs": [
    {
     "name": "stdout",
     "output_type": "stream",
     "text": [
      "<generator object parse at 0x114769d58>\n"
     ]
    }
   ],
   "source": [
    "print(str(SeqIO.parse(\"exampleAlignment/ludwig_eve-striped-2.fasta\", \"fasta\")))"
   ]
  },
  {
   "cell_type": "code",
   "execution_count": 18,
   "metadata": {},
   "outputs": [
    {
     "name": "stdout",
     "output_type": "stream",
     "text": [
      "[SeqRecord(seq=Seq('atataacccaataattttaactaactcgcaggagcggcaagaaggatgcgttgt...cta', SingleLetterAlphabet()), id='ludwig_eve-striped-2||memb002e|-', name='<unknown name>', description='<unknown description>', dbxrefs=[]), SeqRecord(seq=Seq('atataacccaataattttaactaactcgcaggagcaagaaggatgcggatgcgt...ctg', SingleLetterAlphabet()), id='ludwig_eve-striped-2||memb003c|-', name='<unknown name>', description='<unknown description>', dbxrefs=[]), SeqRecord(seq=Seq('atataacccaataattttaactaactcgcaggagcggccagaaggatgcgttgt...cgc', SingleLetterAlphabet()), id='ludwig_eve-striped-2||memb003d|-', name='<unknown name>', description='<unknown description>', dbxrefs=[]), SeqRecord(seq=Seq('atataacccaataatttgaactaactcgcaggagcaagaaggatgcggatgcgt...ctg', SingleLetterAlphabet()), id='ludwig_eve-striped-2||memb002a|+', name='<unknown name>', description='<unknown description>', dbxrefs=[]), SeqRecord(seq=Seq('atataacccaataattttaactaactcgcaggagcaagaaggatgcggatgcgt...ctg', SingleLetterAlphabet()), id='ludwig_eve-striped-2||memb002c|+', name='<unknown name>', description='<unknown description>', dbxrefs=[]), SeqRecord(seq=Seq('atataacccaataatttgaactaactcgcaggagcggcaagaaggatgcgttgt...cta', SingleLetterAlphabet()), id='ludwig_eve-striped-2||memb002d|+', name='<unknown name>', description='<unknown description>', dbxrefs=[]), SeqRecord(seq=Seq('atataacccaataattttaactaactcgcaggagcaagaaggatgcgttgttac...cgc', SingleLetterAlphabet()), id='ludwig_eve-striped-2||memb002f|+', name='<unknown name>', description='<unknown description>', dbxrefs=[]), SeqRecord(seq=Seq('atataacccaataattttaactaactcgcaggagcggcaagaaggatgcgtttg...ggc', SingleLetterAlphabet()), id='ludwig_eve-striped-2||memb003b|+', name='<unknown name>', description='<unknown description>', dbxrefs=[]), SeqRecord(seq=Seq('atataacccaataattttaactaactcgcaggagcggcaagaaggatgcgttgt...ggc', SingleLetterAlphabet()), id='ludwig_eve-striped-2||memb003f|+', name='<unknown name>', description='<unknown description>', dbxrefs=[])]\n"
     ]
    }
   ],
   "source": [
    "raw_sequences = []\n",
    "for record in alignment:\n",
    "    raw_sequences.append(SeqRecord(record.seq.ungap(\"-\"), id = record.id))\n",
    "\n",
    "print (raw_sequences)"
   ]
  },
  {
   "cell_type": "code",
   "execution_count": 19,
   "metadata": {},
   "outputs": [
    {
     "name": "stdout",
     "output_type": "stream",
     "text": [
      "-f\n"
     ]
    }
   ],
   "source": [
    "print (os.path.basename(sys.argv[1]))"
   ]
  },
  {
   "cell_type": "code",
   "execution_count": 28,
   "metadata": {},
   "outputs": [
    {
     "name": "stdout",
     "output_type": "stream",
     "text": [
      "ID: ludwig_eve-striped-2||memb002e|-\n",
      "Name: <unknown name>\n",
      "Description: <unknown description>\n",
      "Number of features: 0\n",
      "Seq('atataacccaataattttaactaactcgcaggagcggcaagaaggatgcgttgt...ggc', SingleLetterAlphabet())\n"
     ]
    }
   ],
   "source": [
    "print(SeqRecord(record.seq.ungap(\"-\"), id = alignment[0].id))"
   ]
  },
  {
   "cell_type": "code",
   "execution_count": 33,
   "metadata": {
    "collapsed": true
   },
   "outputs": [],
   "source": [
    "raw_sequences_2 = []\n",
    "for seq in raw_sequences:\n",
    "    raw_sequences_2.append(Seq(str(seq.seq), IUPAC.IUPACUnambiguousDNA()))"
   ]
  },
  {
   "cell_type": "code",
   "execution_count": 34,
   "metadata": {},
   "outputs": [
    {
     "name": "stdout",
     "output_type": "stream",
     "text": [
      "[Seq('atataacccaataattttaactaactcgcaggagcggcaagaaggatgcgttgt...cta', IUPACUnambiguousDNA()), Seq('atataacccaataattttaactaactcgcaggagcaagaaggatgcggatgcgt...ctg', IUPACUnambiguousDNA()), Seq('atataacccaataattttaactaactcgcaggagcggccagaaggatgcgttgt...cgc', IUPACUnambiguousDNA()), Seq('atataacccaataatttgaactaactcgcaggagcaagaaggatgcggatgcgt...ctg', IUPACUnambiguousDNA()), Seq('atataacccaataattttaactaactcgcaggagcaagaaggatgcggatgcgt...ctg', IUPACUnambiguousDNA()), Seq('atataacccaataatttgaactaactcgcaggagcggcaagaaggatgcgttgt...cta', IUPACUnambiguousDNA()), Seq('atataacccaataattttaactaactcgcaggagcaagaaggatgcgttgttac...cgc', IUPACUnambiguousDNA()), Seq('atataacccaataattttaactaactcgcaggagcggcaagaaggatgcgtttg...ggc', IUPACUnambiguousDNA()), Seq('atataacccaataattttaactaactcgcaggagcggcaagaaggatgcgttgt...ggc', IUPACUnambiguousDNA())]\n"
     ]
    }
   ],
   "source": [
    "print (raw_sequences_2)"
   ]
  },
  {
   "cell_type": "code",
   "execution_count": 67,
   "metadata": {
    "collapsed": true
   },
   "outputs": [],
   "source": [
    "pwm = motif.counts.normalize(pseudocounts=0.0)# Doesn't change from pwm\n",
    "pssm = pwm.log_odds()\n",
    "motif_length = len(motif) #for later retrival of nucleotide sequence"
   ]
  },
  {
   "cell_type": "code",
   "execution_count": 65,
   "metadata": {
    "collapsed": true
   },
   "outputs": [],
   "source": [
    "?motif.counts.normalize"
   ]
  },
  {
   "cell_type": "code",
   "execution_count": 66,
   "metadata": {},
   "outputs": [
    {
     "name": "stdout",
     "output_type": "stream",
     "text": [
      "        0      1      2      3\n",
      "A:   0.24   0.26   0.25   0.25\n",
      "C:   0.24   0.25   0.25   0.26\n",
      "G:   0.26   0.25   0.25   0.24\n",
      "T:   0.26   0.25   0.25   0.24\n",
      "\n"
     ]
    }
   ],
   "source": [
    "print(pwm)"
   ]
  },
  {
   "cell_type": "code",
   "execution_count": 37,
   "metadata": {},
   "outputs": [
    {
     "name": "stdout",
     "output_type": "stream",
     "text": [
      "        0      1      2      3\n",
      "A:  -1.50   1.55   0.68   0.37\n",
      "C:  -1.65  -0.70  -0.32   1.33\n",
      "G:   0.70  -1.70  -0.32  -2.88\n",
      "T:   0.76  -2.70  -0.32  -3.88\n",
      "\n"
     ]
    }
   ],
   "source": [
    "print(pssm)"
   ]
  },
  {
   "cell_type": "code",
   "execution_count": 38,
   "metadata": {},
   "outputs": [
    {
     "name": "stdout",
     "output_type": "stream",
     "text": [
      "4\n"
     ]
    }
   ],
   "source": [
    "print(motif_length)"
   ]
  },
  {
   "cell_type": "code",
   "execution_count": 39,
   "metadata": {
    "collapsed": true
   },
   "outputs": [],
   "source": [
    "#what does pwm = motif.counts.normalize(pseudocounts=0.0) do? what does log_odds() do?"
   ]
  },
  {
   "cell_type": "code",
   "execution_count": 40,
   "metadata": {
    "collapsed": true
   },
   "outputs": [],
   "source": [
    "pssm_list = [ ]\n",
    "for seq in raw_sequences_2:\n",
    "    pssm_list.append(pssm.calculate(seq))"
   ]
  },
  {
   "cell_type": "code",
   "execution_count": 41,
   "metadata": {},
   "outputs": [
    {
     "name": "stdout",
     "output_type": "stream",
     "text": [
      "[ -7.40326166e+00   2.35562778e+00  -3.15533423e+00   4.31715345e+00\n",
      "   1.05411911e+00  -1.19380832e+00  -2.30733728e+00  -1.30733728e+00\n",
      "  -3.30733728e+00   9.25932974e-02  -3.15533423e+00  -8.92299831e-01\n",
      "  -4.15533400e+00  -8.40326214e+00  -6.14022732e+00  -1.89229977e+00\n",
      "  -8.92299831e-01   4.31715345e+00  -4.15533400e+00  -2.15533423e+00\n",
      "  -3.30733728e+00   4.31715345e+00  -4.15533400e+00  -1.19380832e+00\n",
      "  -7.55526495e+00   1.06922603e+00  -3.30733728e+00  -2.20162797e+00\n",
      "  -3.30733728e+00  -3.15533423e+00  -3.20162797e+00   3.25575304e+00\n",
      "  -6.40326166e+00  -3.20162797e+00  -2.34581137e+00  -9.53700364e-01\n",
      "   1.04629970e+00  -2.30733728e+00   9.25932974e-02  -2.15533423e+00\n",
      "   4.62996438e-02  -3.15533423e+00  -3.15533423e+00  -4.20162773e+00\n",
      "  -9.53700364e-01  -3.19380832e+00  -4.14022732e+00  -4.20162773e+00\n",
      "  -7.55526495e+00  -5.20162773e+00  -6.14022732e+00  -5.14022732e+00\n",
      "  -1.95370030e+00   6.92260414e-02   3.31715345e+00  -1.19380832e+00\n",
      "  -5.55526495e+00  -5.55526495e+00  -7.55526495e+00  -9.53700364e-01\n",
      "  -9.53700364e-01  -8.92299831e-01  -3.15533423e+00  -3.19380832e+00\n",
      "  -8.92299831e-01  -3.20162797e+00  -5.94097972e-02  -3.15533423e+00\n",
      "   4.31715345e+00   9.25932974e-02  -1.15533423e+00  -3.30733728e+00\n",
      "  -3.15533423e+00  -7.40326166e+00  -5.14022732e+00   7.82549661e-03\n",
      "  -9.92174506e-01  -4.14022732e+00  -1.34581149e+00  -7.55526495e+00\n",
      "  -3.14022732e+00  -3.30733728e+00   4.62996438e-02   4.25575304e+00\n",
      "  -3.15533423e+00  -5.40326166e+00  -6.55526495e+00  -4.20162773e+00\n",
      "  -9.53700364e-01   4.62996438e-02  -9.53700364e-01  -4.15533400e+00\n",
      "  -7.40326166e+00  -5.14022732e+00  -8.92299831e-01   4.62996438e-02\n",
      "   3.29422712e+00   2.05411911e+00  -4.15533400e+00  -2.15533423e+00\n",
      "  -6.55526495e+00  -8.92299831e-01  -3.15533423e+00   1.00782549e+00\n",
      "   2.29422712e+00  -5.40326166e+00  -3.30733728e+00  -7.40326166e+00\n",
      "  -8.92299831e-01  -4.20162773e+00   3.25575304e+00  -7.40326166e+00\n",
      "   1.07700191e-01  -2.30733728e+00   4.62996438e-02  -3.15533423e+00\n",
      "  -7.40326166e+00  -5.20162773e+00  -9.92174506e-01  -9.30773973e-01\n",
      "  -4.14022732e+00  -1.34581149e+00  -3.34581137e+00  -4.14022732e+00\n",
      "  -1.34581149e+00  -4.30733728e+00   2.06922603e+00   9.02116060e-01\n",
      "  -1.19380832e+00  -6.55526495e+00  -5.55526495e+00  -8.55526447e+00\n",
      "   6.92260414e-02  -6.20162773e+00   1.06922603e+00  -8.55526447e+00\n",
      "  -3.14022732e+00  -8.55526447e+00  -4.14022732e+00  -6.20162773e+00\n",
      "  -4.14022732e+00  -6.20162773e+00  -4.14022732e+00  -6.20162773e+00\n",
      "  -5.14022732e+00  -6.20162773e+00  -5.14022732e+00  -6.14022732e+00\n",
      "  -4.14022732e+00  -9.92174506e-01   6.92260414e-02  -3.20162797e+00\n",
      "  -6.55526495e+00  -6.55526495e+00  -6.20162773e+00  -5.14022732e+00\n",
      "  -1.95370030e+00  -8.92299831e-01  -8.92299831e-01   1.05411911e+00\n",
      "  -3.19380832e+00  -3.14022732e+00  -6.55526495e+00  -7.55526495e+00\n",
      "  -6.20162773e+00  -6.14022732e+00  -9.30773973e-01  -9.30773973e-01\n",
      "   1.07700191e-01  -5.55526495e+00   9.02116060e-01  -4.15533400e+00\n",
      "  -2.14022732e+00   9.02116060e-01  -2.19380832e+00   4.62996438e-02\n",
      "  -4.55526495e+00  -5.94097972e-02  -6.40326166e+00  -1.95370030e+00\n",
      "  -4.15533400e+00  -5.14022732e+00  -1.89229977e+00  -4.15533400e+00\n",
      "  -4.14022732e+00  -1.89229977e+00  -2.19380832e+00  -1.95370030e+00\n",
      "   1.10770023e+00  -3.30733728e+00  -4.15533400e+00  -8.40326214e+00\n",
      "  -6.14022732e+00  -5.14022732e+00  -5.14022732e+00  -4.14022732e+00\n",
      "   7.82549661e-03   7.82549661e-03   4.62996438e-02  -4.55526495e+00\n",
      "  -4.30733728e+00  -7.40326166e+00  -6.20162773e+00  -6.14022732e+00\n",
      "  -9.30773973e-01  -9.30773973e-01   1.07700191e-01  -4.55526495e+00\n",
      "   9.02116060e-01  -3.15533423e+00  -3.20162797e+00  -4.30733728e+00\n",
      "  -8.40326214e+00  -9.30773973e-01  -9.30773973e-01   1.06922603e+00\n",
      "  -6.55526495e+00  -6.55526495e+00  -8.55526447e+00  -6.14022732e+00\n",
      "  -5.14022732e+00  -5.14022732e+00   6.92260414e-02  -9.53700364e-01\n",
      "  -3.20162797e+00   9.02116060e-01  -7.40326166e+00  -4.14022732e+00\n",
      "  -7.55526495e+00  -6.20162773e+00  -9.30773973e-01  -1.89229977e+00\n",
      "   2.06922603e+00  -4.30733728e+00  -6.40326166e+00  -8.55526447e+00\n",
      "  -9.30773973e-01  -5.14022732e+00   1.07700191e-01  -5.55526495e+00\n",
      "  -1.95370030e+00  -7.40326166e+00  -1.95370030e+00  -4.14022732e+00\n",
      "   2.35562778e+00  -6.40326166e+00  -1.95370030e+00  -8.40326214e+00\n",
      "  -6.14022732e+00  -1.89229977e+00  -5.14022732e+00  -1.89229977e+00\n",
      "  -7.40326166e+00  -9.30773973e-01   6.92260414e-02  -3.20162797e+00\n",
      "  -1.34581149e+00  -3.30733728e+00  -3.20162797e+00   9.02116060e-01\n",
      "  -8.40326214e+00  -4.14022732e+00  -7.55526495e+00  -1.89229977e+00\n",
      "   1.07700191e-01   4.25575304e+00   9.25932974e-02  -1.15533423e+00\n",
      "  -3.30733728e+00   1.05411911e+00  -7.40326166e+00   1.07700191e-01\n",
      "  -2.30733728e+00   3.29422712e+00   2.05411911e+00  -3.15533423e+00\n",
      "  -5.40326166e+00  -3.30733728e+00  -3.20162797e+00  -1.95370030e+00\n",
      "  -7.40326166e+00  -6.20162773e+00  -6.14022732e+00  -5.14022732e+00\n",
      "  -5.14022732e+00  -5.14022732e+00  -9.53700364e-01  -9.53700364e-01\n",
      "   4.31715345e+00   9.25932974e-02  -1.93808362e-01  -3.30733728e+00\n",
      "  -1.19380832e+00  -7.55526495e+00  -3.20162797e+00  -8.55526447e+00\n",
      "  -4.14022732e+00  -9.92174506e-01  -5.14022732e+00   1.00782549e+00\n",
      "  -8.55526447e+00   1.07700191e-01  -2.34581137e+00  -1.89229977e+00\n",
      "  -6.40326166e+00  -8.55526447e+00  -6.14022732e+00  -1.89229977e+00\n",
      "   6.92260414e-02  -1.89229977e+00  -5.40326166e+00  -7.55526495e+00\n",
      "   6.92260414e-02  -5.20162773e+00  -4.20162773e+00  -8.55526447e+00\n",
      "  -9.30773973e-01  -1.89229977e+00   1.10770023e+00  -3.30733728e+00\n",
      "  -4.15533400e+00  -7.40326166e+00  -1.89229977e+00  -3.14022732e+00\n",
      "   2.29422712e+00  -2.15533423e+00   4.25575304e+00  -3.15533423e+00\n",
      "  -5.40326166e+00  -3.30733728e+00   4.62996438e-02  -9.53700364e-01\n",
      "  -4.15533400e+00  -4.15533400e+00  -8.92299831e-01   3.35562778e+00\n",
      "   2.05411911e+00  -3.15533423e+00  -5.40326166e+00  -3.30733728e+00\n",
      "   4.62996438e-02  -9.53700364e-01  -4.15533400e+00  -3.19380832e+00\n",
      "  -9.30773973e-01  -3.14022732e+00  -5.55526495e+00  -6.55526495e+00\n",
      "  -9.53700364e-01  -3.20162797e+00  -1.95370030e+00  -7.40326166e+00\n",
      "  -1.95370030e+00  -8.92299831e-01   1.07700191e-01   9.25932974e-02\n",
      "  -5.40326166e+00   2.29422712e+00  -2.15533423e+00   4.62996438e-02\n",
      "   9.25932974e-02  -1.19380832e+00   2.29422712e+00  -4.40326166e+00\n",
      "  -3.30733728e+00  -3.15533423e+00  -3.20162797e+00   2.29422712e+00\n",
      "  -1.19380832e+00   2.29422712e+00  -4.40326166e+00  -3.30733728e+00\n",
      "  -3.15533423e+00  -3.20162797e+00   2.29422712e+00  -1.19380832e+00\n",
      "   2.29422712e+00  -4.40326166e+00  -3.30733728e+00  -2.19380832e+00\n",
      "  -5.20162773e+00   4.62996438e-02  -6.55526495e+00   2.35562778e+00\n",
      "  -5.40326166e+00   2.29422712e+00  -1.19380832e+00   3.25575304e+00\n",
      "  -1.19380832e+00  -6.55526495e+00  -5.55526495e+00  -4.30733728e+00\n",
      "   1.06922603e+00  -1.95370030e+00  -2.15533423e+00  -6.55526495e+00\n",
      "   2.35562778e+00  -5.40326166e+00  -9.53700364e-01  -2.19380832e+00\n",
      "   7.82549661e-03   4.62996438e-02  -1.30733728e+00   9.40590203e-01\n",
      "   1.09259331e+00   1.09259331e+00   2.05411911e+00   1.05411911e+00\n",
      "  -5.40326166e+00  -5.55526495e+00  -6.55526495e+00  -5.20162773e+00\n",
      "  -5.20162773e+00  -5.20162773e+00  -9.30773973e-01  -8.92299831e-01\n",
      "   1.04629970e+00   9.40590203e-01  -2.15533423e+00  -4.15533400e+00\n",
      "  -2.19380832e+00  -1.95370030e+00  -2.14022732e+00  -3.30733728e+00\n",
      "  -3.15533423e+00  -3.20162797e+00   2.29422712e+00  -6.40326166e+00\n",
      "  -1.95370030e+00  -3.19380832e+00  -9.30773973e-01  -3.14022732e+00\n",
      "  -6.55526495e+00  -7.55526495e+00  -9.92174506e-01  -5.14022732e+00\n",
      "   1.07700191e-01  -2.30733728e+00  -9.53700364e-01  -3.15533423e+00\n",
      "  -3.19380832e+00  -8.92299831e-01   1.04629970e+00  -2.30733728e+00\n",
      "  -3.15533423e+00  -3.15533423e+00   1.00782549e+00  -1.95370030e+00\n",
      "  -1.19380832e+00  -8.55526447e+00   1.07700191e-01  -3.30733728e+00\n",
      "   4.31715345e+00   1.05411911e+00  -1.19380832e+00  -2.30733728e+00\n",
      "  -4.55526495e+00  -4.30733728e+00  -7.40326166e+00  -6.20162773e+00\n",
      "  -5.14022732e+00  -6.14022732e+00  -5.14022732e+00  -6.20162773e+00\n",
      "  -5.14022732e+00  -6.14022732e+00  -5.14022732e+00  -6.20162773e+00\n",
      "  -5.14022732e+00  -6.14022732e+00  -5.14022732e+00  -6.20162773e+00\n",
      "  -5.14022732e+00  -9.30773973e-01  -5.14022732e+00  -3.20162797e+00\n",
      "  -7.55526495e+00  -4.14022732e+00  -9.53700364e-01  -4.20162773e+00\n",
      "  -1.95370030e+00  -4.15533400e+00  -4.14022732e+00   3.31715345e+00\n",
      "  -2.19380832e+00  -3.20162797e+00  -2.30733728e+00  -5.55526495e+00\n",
      "  -9.53700364e-01  -6.40326166e+00   7.82549661e-03  -5.20162773e+00\n",
      "  -4.20162773e+00  -7.55526495e+00  -1.89229977e+00   1.06922603e+00\n",
      "  -1.95370030e+00  -6.40326166e+00  -7.55526495e+00  -5.14022732e+00\n",
      "  -5.14022732e+00  -9.53700364e-01   7.82549661e-03   3.31715345e+00\n",
      "  -1.19380832e+00  -1.34581149e+00  -5.55526495e+00  -2.30733728e+00\n",
      "  -6.55526495e+00   3.25575304e+00  -3.19380832e+00   1.06922603e+00\n",
      "  -5.55526495e+00  -2.30733728e+00  -2.30733728e+00   4.62996438e-02\n",
      "   9.25932974e-02  -6.40326166e+00   3.25575304e+00  -8.40326214e+00\n",
      "  -4.14022732e+00  -8.55526447e+00  -5.14022732e+00  -1.89229977e+00\n",
      "  -3.14022732e+00   3.25575304e+00  -2.19380832e+00  -3.20162797e+00\n",
      "  -1.34581149e+00  -6.55526495e+00   4.62996438e-02  -6.55526495e+00\n",
      "   3.25575304e+00  -3.19380832e+00   1.06922603e+00  -5.55526495e+00\n",
      "  -6.55526495e+00  -7.55526495e+00  -6.20162773e+00  -9.30773973e-01\n",
      "  -9.30773973e-01   1.06922603e+00  -5.55526495e+00  -2.30733728e+00\n",
      "  -6.55526495e+00  -1.95370030e+00  -8.40326214e+00  -6.14022732e+00\n",
      "  -9.30773973e-01  -1.89229977e+00  -3.14022732e+00  -4.30733728e+00\n",
      "  -4.15533400e+00  -4.14022732e+00   2.35562778e+00  -2.15533423e+00\n",
      "   3.29422712e+00  -2.15533423e+00  -4.15533400e+00  -2.19380832e+00\n",
      "  -1.95370030e+00  -3.14022732e+00  -5.94097972e-02  -3.15533423e+00\n",
      "   3.35562778e+00   1.09259331e+00   1.09259331e+00   2.05411911e+00\n",
      "   9.25932974e-02  -1.93808362e-01  -5.94097972e-02  -5.40326166e+00\n",
      "  -5.94097972e-02  -3.15533423e+00  -8.92299831e-01   9.25932974e-02\n",
      "  -3.15533423e+00  -8.92299831e-01  -3.15533423e+00  -4.15533400e+00\n",
      "  -4.14022732e+00  -9.53700364e-01  -8.40326214e+00   6.92260414e-02\n",
      "  -5.20162773e+00   1.07700191e-01  -2.30733728e+00   4.62996438e-02\n",
      "  -3.15533423e+00  -6.40326166e+00  -9.53700364e-01  -4.20162773e+00\n",
      "  -1.95370030e+00  -4.15533400e+00  -4.14022732e+00   3.31715345e+00\n",
      "  -7.40326166e+00  -3.20162797e+00  -7.55526495e+00  -8.92299831e-01\n",
      "   1.00782549e+00   2.29422712e+00  -5.40326166e+00  -5.94097972e-02\n",
      "  -7.40326166e+00   3.31715345e+00  -3.19380832e+00   1.06922603e+00\n",
      "  -6.55526495e+00  -2.30733728e+00  -7.55526495e+00   3.31715345e+00\n",
      "  -3.19380832e+00   1.06922603e+00  -6.55526495e+00  -5.55526495e+00\n",
      "  -7.55526495e+00   6.92260414e-02   7.82549661e-03   1.00782549e+00\n",
      "  -2.30733728e+00  -1.30733728e+00   9.40590203e-01  -2.15533423e+00\n",
      "  -3.15533423e+00  -2.19380832e+00  -9.53700364e-01  -2.20162797e+00\n",
      "  -3.30733728e+00  -2.19380832e+00  -9.53700364e-01  -2.20162797e+00\n",
      "   9.02116060e-01  -2.19380832e+00  -4.20162773e+00  -2.30733728e+00\n",
      "  -6.55526495e+00   3.31715345e+00  -7.40326166e+00  -4.20162773e+00\n",
      "  -8.55526447e+00  -5.14022732e+00  -9.30773973e-01  -5.14022732e+00\n",
      "  -3.20162797e+00  -7.55526495e+00  -4.14022732e+00  -5.20162773e+00\n",
      "  -5.20162773e+00  -6.20162773e+00  -1.89229977e+00  -5.14022732e+00\n",
      "  -1.89229977e+00  -8.40326214e+00  -6.14022732e+00  -6.14022732e+00\n",
      "  -6.14022732e+00  -5.14022732e+00  -9.30773973e-01  -4.14022732e+00\n",
      "   1.00782549e+00  -7.55526495e+00  -3.20162797e+00  -4.30733728e+00\n",
      "   1.06922603e+00  -1.95370030e+00  -6.40326166e+00  -4.30733728e+00\n",
      "  -8.92299831e-01   4.31715345e+00   1.05411911e+00  -1.19380832e+00\n",
      "  -6.55526495e+00  -6.55526495e+00  -4.30733728e+00  -8.92299831e-01\n",
      "  -8.92299831e-01   1.05411911e+00  -3.19380832e+00  -4.14022732e+00\n",
      "  -1.34581149e+00  -4.30733728e+00  -2.14022732e+00   9.02116060e-01\n",
      "  -3.15533423e+00  -2.20162797e+00   9.02116060e-01  -7.40326166e+00\n",
      "  -4.20162773e+00  -4.30733728e+00  -8.92299831e-01   1.07700191e-01\n",
      "   1.05411911e+00  -6.40326166e+00  -4.20162773e+00  -3.30733728e+00\n",
      "  -4.20162773e+00   3.31715345e+00  -3.15533423e+00  -2.20162797e+00\n",
      "  -3.30733728e+00  -7.40326166e+00  -9.53700364e-01  -4.20162773e+00\n",
      "   2.35562778e+00  -5.40326166e+00  -1.95370030e+00  -7.40326166e+00\n",
      "  -9.92174506e-01  -6.14022732e+00  -3.14022732e+00  -7.55526495e+00\n",
      "  -5.14022732e+00  -9.53700364e-01  -5.20162773e+00   3.31715345e+00\n",
      "  -3.19380832e+00   1.06922603e+00  -6.55526495e+00  -6.55526495e+00\n",
      "  -8.55526447e+00  -6.14022732e+00  -6.14022732e+00  -6.14022732e+00\n",
      "  -5.14022732e+00  -9.30773973e-01  -4.14022732e+00   1.00782549e+00\n",
      "  -3.30733728e+00   1.04629970e+00   9.40590203e-01   2.05411911e+00\n",
      "  -4.15533400e+00  -6.40326166e+00  -8.55526447e+00  -5.14022732e+00\n",
      "  -6.14022732e+00  -5.14022732e+00  -5.20162773e+00  -6.14022732e+00\n",
      "  -4.14022732e+00  -6.20162773e+00  -5.14022732e+00  -6.20162773e+00\n",
      "  -6.14022732e+00  -6.14022732e+00  -5.14022732e+00  -6.14022732e+00\n",
      "  -5.14022732e+00  -5.20162773e+00  -6.14022732e+00  -4.14022732e+00\n",
      "  -6.20162773e+00  -8.92299831e-01  -4.20162773e+00  -1.89229977e+00\n",
      "  -2.19380832e+00  -9.92174506e-01   1.06922603e+00  -1.34581149e+00\n",
      "  -1.34581149e+00  -1.34581149e+00  -1.34581149e+00  -1.34581149e+00\n",
      "  -6.55526495e+00  -6.55526495e+00  -8.55526447e+00  -5.14022732e+00\n",
      "  -1.89229977e+00   1.07700191e-01   3.29422712e+00  -2.15533423e+00\n",
      "  -3.15533423e+00  -3.15533423e+00   1.00782549e+00   3.25575304e+00\n",
      "  -6.40326166e+00  -6.55526495e+00  -3.34581137e+00  -6.14022732e+00\n",
      "  -3.14022732e+00  -3.34581137e+00   6.92260414e-02   4.62996438e-02\n",
      "  -4.55526495e+00  -3.30733728e+00  -6.40326166e+00  -4.20162773e+00\n",
      "  -4.20162773e+00  -5.20162773e+00  -9.53700364e-01   7.82549661e-03\n",
      "   2.35562778e+00  -4.40326166e+00  -4.30733728e+00  -7.40326166e+00\n",
      "  -5.20162773e+00  -9.30773973e-01   6.92260414e-02  -4.20162773e+00\n",
      "  -1.34581149e+00  -3.34581137e+00   1.07700191e-01  -1.30733728e+00\n",
      "   1.90211606e+00  -4.15533400e+00  -5.40326166e+00  -7.55526495e+00\n",
      "  -4.14022732e+00   7.82549661e-03  -9.53700364e-01  -3.20162797e+00\n",
      "  -3.30733728e+00  -4.15533400e+00  -4.14022732e+00  -1.95370030e+00\n",
      "  -4.15533400e+00  -5.14022732e+00   2.35562778e+00  -7.40326166e+00\n",
      "   3.31715345e+00  -4.15533400e+00  -3.14022732e+00   9.02116060e-01\n",
      "  -4.15533400e+00  -3.14022732e+00  -5.94097972e-02  -3.15533423e+00\n",
      "  -8.92299831e-01   9.25932974e-02  -3.15533423e+00   3.35562778e+00\n",
      "  -3.15533423e+00  -3.15533423e+00  -8.40326214e+00  -5.14022732e+00\n",
      "  -6.20162773e+00  -6.14022732e+00  -5.14022732e+00  -9.30773973e-01\n",
      "   6.92260414e-02   1.00782549e+00  -2.30733728e+00  -1.30733728e+00\n",
      "   1.90211606e+00  -3.15533423e+00  -2.15533423e+00  -2.30733728e+00\n",
      "   3.29422712e+00   2.05411911e+00   1.05411911e+00  -5.40326166e+00\n",
      "  -6.55526495e+00  -3.30733728e+00  -4.20162773e+00   3.31715345e+00\n",
      "  -7.40326166e+00   4.62996438e-02  -3.30733728e+00   3.35562778e+00\n",
      "   1.09259331e+00   2.05411911e+00  -4.15533400e+00  -6.40326166e+00\n",
      "  -8.55526447e+00  -6.14022732e+00  -9.30773973e-01  -1.89229977e+00\n",
      "   1.10770023e+00   9.40590203e-01  -3.15533423e+00  -4.15533400e+00\n",
      "  -4.15533400e+00  -8.92299831e-01   1.07700191e-01  -4.15533400e+00\n",
      "  -2.19380832e+00  -6.20162773e+00   1.06922603e+00  -3.34581137e+00\n",
      "   1.07700191e-01  -4.55526495e+00   9.02116060e-01  -3.15533423e+00\n",
      "   1.04629970e+00   1.90211606e+00  -4.15533400e+00  -5.40326166e+00\n",
      "  -4.30733728e+00  -3.14022732e+00  -9.53700364e-01  -2.19380832e+00\n",
      "   7.82549661e-03  -3.20162797e+00  -6.55526495e+00  -7.55526495e+00\n",
      "  -9.92174506e-01  -9.30773973e-01  -4.14022732e+00  -1.34581149e+00\n",
      "  -3.34581137e+00  -4.14022732e+00  -5.55526495e+00  -7.55526495e+00\n",
      "  -8.92299831e-01   4.62996438e-02   4.25575304e+00   1.05411911e+00\n",
      "  -1.19380832e+00  -2.30733728e+00  -4.55526495e+00   9.02116060e-01\n",
      "  -2.19380832e+00   4.62996438e-02  -5.55526495e+00  -4.30733728e+00\n",
      "  -4.15533400e+00  -5.14022732e+00   3.31715345e+00  -3.19380832e+00\n",
      "  -4.14022732e+00  -5.55526495e+00  -3.34581137e+00  -5.14022732e+00\n",
      "   4.62996438e-02]\n"
     ]
    }
   ],
   "source": [
    "print(pssm.calculate(raw_sequences_2[0]))"
   ]
  },
  {
   "cell_type": "code",
   "execution_count": 42,
   "metadata": {},
   "outputs": [
    {
     "name": "stdout",
     "output_type": "stream",
     "text": [
      "atataacccaataattttaactaactcgcaggagcggcaagaaggatgcgttgttacccggtaatgcataacaatggtcctcggaacggggaattggaaactaggacatggatcgaaggttcctcctcaccctgtctctgtgtgtgtttgtgccgtgttaatccgttttccatcagccagattattagtcaattttgggccagttttccagcatttcccttttggcatcgtttcactttcgagttagattttattgccgcatcttgaacaatcgaaacggagttttggtaacacgctgtgctctacttttactggctttcaattgagaacggaattaaacggaattccgggagttaagagaagacaggagacaggagacaggctagagaccctgactagaggccaaaaaccgggttgcaaagtcaggagattccgttcgaatgcaaggactctaacccagtttgtttgtttgtttgctgggattagccgagggcttgacttggtaccccgatcccgaagatctttgagccgcgatcccgtttcccgattttcattagaaagtcataaaaacacataataatgatgtcgaagggattagctggacatatccctatccctggcccaaaggcaggcagcctagctttgctgggtttattttttgcgctgacttaacccttaatcctcagcagcttaagcgtagcaggtagagttctggtatcccttttttgcgcaaactttgttgtgtttttgttgtgtagtcccccccctttgaaaggaccttctgccagggggtacagttgcctccaactgggcatgattatatcatcataataaatgttttgcccaacgaaaccgtagctaaaacttttcaaattaagtctccagcaactgaggccgttcctcctggaacccagccattatcctgcta\n"
     ]
    }
   ],
   "source": [
    "print(raw_sequences_2[0])"
   ]
  },
  {
   "cell_type": "code",
   "execution_count": 43,
   "metadata": {
    "collapsed": true
   },
   "outputs": [],
   "source": [
    "## Approximate calculation of appropriate thresholds for motif finding \n",
    "## Patser Threshold\n",
    "## It selects such a threshold that the log(fpr)=-ic(M) \n",
    "#?????"
   ]
  },
  {
   "cell_type": "code",
   "execution_count": 44,
   "metadata": {},
   "outputs": [
    {
     "name": "stdout",
     "output_type": "stream",
     "text": [
      "Patser Threshold is -0.892\n"
     ]
    }
   ],
   "source": [
    "distribution = pssm.distribution(background=motif.background, precision=10**4)\n",
    "patser_threshold = distribution.threshold_patser() #for use later\n",
    "\n",
    "## for sys.out\n",
    "#print(\"Patser Threshold is %5.3f\" % patser_threshold) # Calculates Paster threshold. \n"
   ]
  },
  {
   "cell_type": "code",
   "execution_count": 45,
   "metadata": {
    "collapsed": true
   },
   "outputs": [],
   "source": [
    "raw_id = []\n",
    "for seq in raw_sequences:\n",
    "    raw_id.append(seq.id)"
   ]
  },
  {
   "cell_type": "code",
   "execution_count": 46,
   "metadata": {
    "collapsed": true
   },
   "outputs": [],
   "source": [
    "record_length = []\n",
    "for record in raw_sequences_2:\n",
    "    record_length.append(len(record))"
   ]
  },
  {
   "cell_type": "code",
   "execution_count": 47,
   "metadata": {},
   "outputs": [
    {
     "name": "stdout",
     "output_type": "stream",
     "text": [
      "atataacccaataattttaactaactcgcaggagcggcaagaaggatgcgttgttacccggtaatgcataacaatggtcctcggaacggggaattggaaactaggacatggatcgaaggttcctcctcaccctgtctctgtgtgtgtttgtgccgtgttaatccgttttccatcagccagattattagtcaattttgggccagttttccagcatttcccttttggcatcgtttcactttcgagttagattttattgccgcatcttgaacaatcgaaacggagttttggtaacacgctgtgctctacttttactggctttcaattgagaacggaattaaacggaattccgggagttaagagaagacaggagacaggagacaggctagagaccctgactagaggccaaaaaccgggttgcaaagtcaggagattccgttcgaatgcaaggactctaacccagtttgtttgtttgtttgctgggattagccgagggcttgacttggtaccccgatcccgaagatctttgagccgcgatcccgtttcccgattttcattagaaagtcataaaaacacataataatgatgtcgaagggattagctggacatatccctatccctggcccaaaggcaggcagcctagctttgctgggtttattttttgcgctgacttaacccttaatcctcagcagcttaagcgtagcaggtagagttctggtatcccttttttgcgcaaactttgttgtgtttttgttgtgtagtcccccccctttgaaaggaccttctgccagggggtacagttgcctccaactgggcatgattatatcatcataataaatgttttgcccaacgaaaccgtagctaaaacttttcaaattaagtctccagcaactgaggccgttcctcctggaacccagccattatcctgcta\n"
     ]
    }
   ],
   "source": [
    "print (raw_sequences_2[0])"
   ]
  },
  {
   "cell_type": "code",
   "execution_count": 80,
   "metadata": {},
   "outputs": [
    {
     "name": "stdout",
     "output_type": "stream",
     "text": [
      "9\n"
     ]
    }
   ],
   "source": [
    "position_list = []\n",
    "## instead maybe for i in range(len(raw_id)) \n",
    "#maybe take an argument for the threshold\n",
    "for i in range(0,8): #number of gene sequences \n",
    "    for position, score in pssm.search(raw_sequences_2[i], threshold = patser_threshold):\n",
    "        positions = {'species': raw_id[i], 'score':score, 'position':position, 'seq_len': record_length[i] }\n",
    "        position_list.append(positions)"
   ]
  },
  {
   "cell_type": "code",
   "execution_count": 76,
   "metadata": {
    "collapsed": true
   },
   "outputs": [],
   "source": [
    "#for ____, _____ in ?\n",
    "#why range(0,8)?"
   ]
  },
  {
   "cell_type": "code",
   "execution_count": 77,
   "metadata": {},
   "outputs": [
    {
     "name": "stdout",
     "output_type": "stream",
     "text": [
      "ludwig_eve-striped-2||memb002e|-\n"
     ]
    }
   ],
   "source": [
    "print (raw_id[0])"
   ]
  },
  {
   "cell_type": "code",
   "execution_count": null,
   "metadata": {
    "collapsed": true
   },
   "outputs": [],
   "source": []
  }
 ],
 "metadata": {
  "kernelspec": {
   "display_name": "Python 3",
   "language": "python",
   "name": "python3"
  },
  "language_info": {
   "codemirror_mode": {
    "name": "ipython",
    "version": 3
   },
   "file_extension": ".py",
   "mimetype": "text/x-python",
   "name": "python",
   "nbconvert_exporter": "python",
   "pygments_lexer": "ipython3",
   "version": "3.6.1"
  }
 },
 "nbformat": 4,
 "nbformat_minor": 2
}
